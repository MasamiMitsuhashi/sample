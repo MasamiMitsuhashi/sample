{
  "nbformat": 4,
  "nbformat_minor": 0,
  "metadata": {
    "colab": {
      "name": "SampleHelloWorld.ipynb",
      "provenance": [],
      "authorship_tag": "ABX9TyOrIdk/LxZNJ3mbT+G2Clo+",
      "include_colab_link": true
    },
    "kernelspec": {
      "name": "python3",
      "display_name": "Python 3"
    },
    "language_info": {
      "name": "python"
    }
  },
  "cells": [
    {
      "cell_type": "markdown",
      "metadata": {
        "id": "view-in-github",
        "colab_type": "text"
      },
      "source": [
        "<a href=\"https://colab.research.google.com/github/MasamiMitsuhashi/sample/blob/main/SampleHelloWorld.ipynb\" target=\"_parent\"><img src=\"https://colab.research.google.com/assets/colab-badge.svg\" alt=\"Open In Colab\"/></a>"
      ]
    },
    {
      "cell_type": "code",
      "execution_count": 3,
      "metadata": {
        "colab": {
          "base_uri": "https://localhost:8080/"
        },
        "id": "4pcKfDLg8Uhj",
        "outputId": "1edad722-8c78-4eaa-c48c-ca3e5378bdf1"
      },
      "outputs": [
        {
          "output_type": "stream",
          "name": "stdout",
          "text": [
            "Hello Wordld!!\n"
          ]
        }
      ],
      "source": [
        "print(\"Hello Wordld!!\")"
      ]
    }
  ]
}